{
 "cells": [
  {
   "cell_type": "code",
   "execution_count": 3,
   "metadata": {},
   "outputs": [],
   "source": [
    "from selenium import webdriver\n",
    "from selenium.common import exceptions\n",
    "import sys\n",
    "import time"
   ]
  },
  {
   "cell_type": "code",
   "execution_count": 61,
   "metadata": {},
   "outputs": [],
   "source": [
    "url = 'https://www.youtube.com/watch?v=Vfo5le26IhY'\n",
    "def scrape(url):\n",
    "    \n",
    "    driver = webdriver.Chrome('chromedriver')\n",
    "    driver.get(url)\n",
    "    driver.maximize_window()\n",
    "    time.sleep(5)\n",
    "    \n",
    "    title = driver.find_element_by_xpath('//*[@id=\"container\"]/h1/yt-formatted-string').text\n",
    "    comment_section = driver.find_element_by_xpath('//*[@id=\"comments\"]')\n",
    "        \n",
    "    driver.execute_script(\"arguments[0].scrollIntoView();\", comment_section)\n",
    "    time.sleep(5)\n",
    "    \n",
    "    \n",
    "    comment_elems = driver.find_elements_by_xpath('//*[@id=\"content-text\"]')\n",
    "    com=[]\n",
    "    for comment in (comment_elems):\n",
    "        print(comment.text + \"\\n\")\n",
    "        com.append(comment.text)\n",
    "    df = pd.DataFrame(com)\n",
    "    df.to_csv('comment_data' +'.csv', index = False)\n",
    "        \n",
    "    driver.close()\n"
   ]
  },
  {
   "cell_type": "code",
   "execution_count": 62,
   "metadata": {},
   "outputs": [
    {
     "name": "stdout",
     "output_type": "stream",
     "text": [
      "Get the certificate of completion for the course, for Free: https://glacad.me/GLA_stats_datascience\n",
      "Also to access the datasets, projects, assessments and codes, register on Great Learning Academy.\n",
      "\n",
      "I am greatly impressed with this lecture. So simplified with imaginable analogies. Thank you so much sir and the greatlearning team.\n",
      "\n",
      "love how engaging the teacher makes this\n",
      "\n",
      "Thanks for such a wonderful lecture.\n",
      "When we will get the next part of it for  indepth knowledge?\n",
      "And is there any other video to watch for Data Science after this video?\n",
      "\n",
      "I am glad to see Great learning sharing the tutorial in you tube from the great mentors. Interested to see more videos like this from GL. Good.\n",
      "\n",
      "I actually had a doubt in the regression line explanation, there we take, where we minimized the sum of [Y(i) - (a - b*X(i))]^2 to get a and b and thus calculating our required line. But why didn't we minimized the sum of square of perpendicular distance. As in Let us say Slope = b, then the perpendicular distance will be [Y(i) - (a - b*X(i))]/sqrt(1 + b^2). And summing of squares of these distance we differentiate to get a & b. \n",
      "\n",
      "Excellent! Prof. Sarkar is a great teacher. Looking forward for more videos in near future.\n",
      "\n",
      "This really is quality teaching from an extremely knowledgeable professor! Thank you very much for this video.\n",
      "\n",
      "Greatly impressed by the sarkar sir teaching style...and grateful to the great learning channel for giving us the opportunity to understand these concepts minutely....thanku so much sir..\n",
      "Is there any video where different types of test are discussed like t test z test chi square etc..then plz let me know sir\n",
      "\n",
      "Thanks. Really it is a very interesting course\n",
      "\n",
      "नमस्ते।  माध्य == औसत आपके मान का, माध्यिका == आपके औसत मान का मान, मानक विचलन == आपके मान व माध्य के अन्तर का औसत। अगर  माध्य > माध्यिका , -> दायी और झुका हुआ।\n",
      "\n",
      "I have been studying data for one of the companies, and this lecture helped me clear many of my doubts\n",
      "\n",
      "I am pursuing @t right now from CSE branch. My college wants to us to write a research paper in M.Tech.But I have no interest to write a research paper. I want to only focus on my skills and after that getting job into a good mnc company.   So, I have a doubt regarding this. My doubt is that  \"For getting a job in MNC or a good company (in ML/AI) , will I should  write a research paper or I should focus only on my required skills for ML/AI with no research paper writing.  Will company also demands for the research paper along with my domain skills.\" \n",
      "\n",
      "He taught us Time series Forecasting at Great Lakes Chennai campus. Amazing faculty!\n",
      "\n",
      "The way the professor teaches is simply mind-blowing . Full credits to the team who made the entire session free!.\n",
      "\n",
      "This was really the best course I Did, Learned alot and earned the certificate of completion as well.Thank you so much Great Learning for this Beautiful content and Dr.Abhinanda Sarkar Sir is the best is explaining things.Thank you very much @GreatLearning\n",
      "\n",
      "One of the best lectures that I have seen on the subject. \n",
      "The course is for a serious beginner, who wants to get solid foundations in the subject.\n",
      "\n",
      "Wow, I am really happy to see the Great Learning to come on YouTube and sharing their content. Quality is not questionable at all, best content in the market, I wonder how amazingly these students have been prepared.\n",
      "\n",
      "We have very few brilliant people like Mr Sarkar.... Great Person....Highly impressed.\n",
      "\n",
      "Could you please tell the name of the Statistics book Dr. referred to during the lecture?\n",
      "\n"
     ]
    }
   ],
   "source": [
    "scrape('https://www.youtube.com/watch?v=Vfo5le26IhY')\n",
    "    "
   ]
  },
  {
   "cell_type": "code",
   "execution_count": null,
   "metadata": {},
   "outputs": [],
   "source": []
  },
  {
   "cell_type": "code",
   "execution_count": null,
   "metadata": {},
   "outputs": [],
   "source": []
  },
  {
   "cell_type": "code",
   "execution_count": null,
   "metadata": {},
   "outputs": [],
   "source": []
  }
 ],
 "metadata": {
  "kernelspec": {
   "display_name": "Python 3",
   "language": "python",
   "name": "python3"
  },
  "language_info": {
   "codemirror_mode": {
    "name": "ipython",
    "version": 3
   },
   "file_extension": ".py",
   "mimetype": "text/x-python",
   "name": "python",
   "nbconvert_exporter": "python",
   "pygments_lexer": "ipython3",
   "version": "3.7.4"
  }
 },
 "nbformat": 4,
 "nbformat_minor": 4
}
